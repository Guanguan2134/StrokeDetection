{
 "cells": [
  {
   "cell_type": "markdown",
   "metadata": {},
   "source": [
    "# Preprocessing"
   ]
  },
  {
   "cell_type": "code",
   "execution_count": 1,
   "metadata": {},
   "outputs": [
    {
     "name": "stderr",
     "output_type": "stream",
     "text": [
      "100%|██████████| 56/56 [00:04<00:00, 12.19it/s]\n"
     ]
    }
   ],
   "source": [
    "import tensorflow as tf\n",
    "import os, shutil, glob\n",
    "import numpy as np\n",
    "from PIL import Image\n",
    "from tqdm import tqdm\n",
    "from tensorflow.keras.applications.vgg16 import VGG16\n",
    "from tensorflow.keras.applications.vgg16 import preprocess_input\n",
    "\n",
    "\n",
    "config = tf.compat.v1.ConfigProto()\n",
    "config.gpu_options.allow_growth = True\n",
    "sess = tf.compat.v1.Session(config=config)\n",
    "# os.environ[\"CUDA_VISIBLE_DEVICES\"] = \"0\"\n",
    "\n",
    "model = VGG16(weights='imagenet', include_top=False)\n",
    "\n",
    "# Variables\n",
    "base_dir = 'data'\n",
    "raw_dir = os.path.join(base_dir, \"raw\")\n",
    "tar_dir = os.path.join(base_dir, 'clustering')\n",
    "if os.path.exists(tar_dir):\n",
    "    shutil.rmtree(tar_dir)\n",
    "os.mkdir(tar_dir)\n",
    "\n",
    "datalist = []\n",
    "masklist = glob.glob(os.path.join(raw_dir, '*_mask.png'))\n",
    "resultlist = glob.glob(os.path.join(raw_dir, '*_result.png'))\n",
    "for i in masklist:\n",
    "    datalist.append(i[:-9]+'.png')\n",
    "\n",
    "# Loop over files and get features\n",
    "resultlist.sort()\n",
    "featurelist = []\n",
    "for imagepath in tqdm(resultlist):\n",
    "    img = Image.open(imagepath).convert(\"RGB\")\n",
    "    img_data = np.array(img)\n",
    "    img_data = np.expand_dims(img_data, axis=0)\n",
    "    img_data = preprocess_input(img_data)\n",
    "    features = np.array(model.predict(img_data))\n",
    "    featurelist.append(features.flatten())"
   ]
  },
  {
   "cell_type": "markdown",
   "metadata": {},
   "source": [
    "# Clustering"
   ]
  },
  {
   "cell_type": "code",
   "execution_count": 2,
   "metadata": {},
   "outputs": [
    {
     "data": {
      "image/png": "[encoded data removed]",
      "text/plain": [
       "<Figure size 432x288 with 1 Axes>"
      ]
     },
     "metadata": {
      "needs_background": "light"
     },
     "output_type": "display_data"
    },
    {
     "name": "stderr",
     "output_type": "stream",
     "text": [
      "56it [00:00, 756.07it/s]\n"
     ]
    }
   ],
   "source": [
    "from sklearn.cluster import KMeans\n",
    "import matplotlib.pyplot as plt\n",
    "\n",
    "try:\n",
    "    shutil.rmtree(tar_dir)\n",
    "    os.mkdir(tar_dir)\n",
    "except:\n",
    "    pass\n",
    "\n",
    "number_clusters = 8\n",
    "kmeans = KMeans(n_clusters=number_clusters, random_state=0).fit(np.array(featurelist))\n",
    "plt.figure()\n",
    "plt.hist(kmeans.labels_, bins=number_clusters*2)\n",
    "plt.title(\"The number of each class\")\n",
    "plt.xlabel(\"#Class\")\n",
    "plt.show()\n",
    "\n",
    "# Copy images renamed by cluster \n",
    "# Check if target dir exists\n",
    "try:\n",
    "    shutil.rmtree(tar_dir)\n",
    "except OSError:\n",
    "    pass\n",
    "try:\n",
    "    os.makedirs(tar_dir)\n",
    "except OSError:\n",
    "    pass\n",
    "# Copy with cluster name\n",
    "for i, m in tqdm(enumerate(kmeans.labels_)):\n",
    "    shutil.copy(resultlist[i], os.path.join(tar_dir, str(m) + \"_\" + str(i) + \".png\"))"
   ]
  },
  {
   "cell_type": "markdown",
   "metadata": {},
   "source": [
    "# Splitting dataset"
   ]
  },
  {
   "cell_type": "code",
   "execution_count": 3,
   "metadata": {},
   "outputs": [],
   "source": [
    "from random import choice\n",
    "\n",
    "\n",
    "train_dir = os.path.join(base_dir,'train')\n",
    "test_dir = os.path.join(base_dir,'test')\n",
    "\n",
    "try:\n",
    "    shutil.rmtree(train_dir)\n",
    "    shutil.rmtree(test_dir)\n",
    "except OSError:\n",
    "    pass\n",
    "try:\n",
    "    os.mkdir(train_dir)\n",
    "    os.mkdir(os.path.join(train_dir,'image'))\n",
    "    os.mkdir(os.path.join(train_dir,'label'))\n",
    "    os.mkdir(os.path.join(train_dir,'result'))\n",
    "    os.mkdir(test_dir)\n",
    "    os.mkdir(os.path.join(test_dir,'image'))\n",
    "    os.mkdir(os.path.join(test_dir, \"label\"))\n",
    "    os.mkdir(os.path.join(test_dir, \"results\"))\n",
    "except OSError:\n",
    "    pass\n",
    "\n",
    "labels = kmeans.labels_\n",
    "testrate = 0.2\n",
    "# testset_num = round(testrate*len(filelist))\n",
    "testset_num = 15\n",
    "count = 0\n",
    "check = True\n",
    "while check:\n",
    "    for i in range(number_clusters):   \n",
    "        idxs = np.ndarray.tolist(np.where(labels==i)[0])\n",
    "        if not idxs:\n",
    "            continue\n",
    "        idx = choice(idxs)\n",
    "        shutil.copy(datalist[idx], os.path.join(test_dir, 'image', str(count)+\".png\"))\n",
    "        shutil.copy(masklist[idx], os.path.join(test_dir, 'label', str(count)+\".png\"))\n",
    "        shutil.copy(resultlist[idx], os.path.join(test_dir, 'results', str(count)+\".png\"))\n",
    "        datalist.pop(idx)\n",
    "        masklist.pop(idx)\n",
    "        resultlist.pop(idx)\n",
    "        labels = np.delete(labels,idx)\n",
    "        count += 1\n",
    "        if count >= testset_num:\n",
    "            check = False\n",
    "            break\n",
    "for i in range(len(resultlist)):\n",
    "    shutil.copy(datalist[i], os.path.join(train_dir,'image', str(i)+\".png\"))\n",
    "    shutil.copy(masklist[i], os.path.join(train_dir,'label', str(i)+\".png\"))\n",
    "    shutil.copy(resultlist[i], os.path.join(train_dir,'result', str(i)+\".png\"))"
   ]
  }
 ],
 "metadata": {
  "interpreter": {
   "hash": "df289c8d3aaae383958d2c7c1f4c8ae0c0d0c67fd785936a6df845cea0646063"
  },
  "kernelspec": {
   "display_name": "Python 3.8.13 ('stroke')",
   "language": "python",
   "name": "python3"
  },
  "language_info": {
   "codemirror_mode": {
    "name": "ipython",
    "version": 3
   },
   "file_extension": ".py",
   "mimetype": "text/x-python",
   "name": "python",
   "nbconvert_exporter": "python",
   "pygments_lexer": "ipython3",
   "version": "3.8.13"
  },
  "toc": {
   "base_numbering": 1,
   "nav_menu": {},
   "number_sections": true,
   "sideBar": true,
   "skip_h1_title": false,
   "title_cell": "Table of Contents",
   "title_sidebar": "Contents",
   "toc_cell": false,
   "toc_position": {},
   "toc_section_display": true,
   "toc_window_display": true
  },
  "varInspector": {
   "cols": {
    "lenName": 16,
    "lenType": 16,
    "lenVar": 40
   },
   "kernels_config": {
    "python": {
     "delete_cmd_postfix": "",
     "delete_cmd_prefix": "del ",
     "library": "var_list.py",
     "varRefreshCmd": "print(var_dic_list())"
    },
    "r": {
     "delete_cmd_postfix": ") ",
     "delete_cmd_prefix": "rm(",
     "library": "var_list.r",
     "varRefreshCmd": "cat(var_dic_list()) "
    }
   },
   "position": {
    "height": "378px",
    "left": "1297px",
    "right": "20px",
    "top": "114px",
    "width": "556px"
   },
   "types_to_exclude": [
    "module",
    "function",
    "builtin_function_or_method",
    "instance",
    "_Feature"
   ],
   "window_display": false
  }
 },
 "nbformat": 4,
 "nbformat_minor": 4
}
