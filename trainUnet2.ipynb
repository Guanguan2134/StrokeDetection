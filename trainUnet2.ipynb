{
 "cells": [
  {
   "cell_type": "code",
   "execution_count": 1,
   "metadata": {},
   "outputs": [
    {
     "name": "stderr",
     "output_type": "stream",
     "text": [
      "Using TensorFlow backend.\n"
     ]
    }
   ],
   "source": [
    "from model import *\n",
    "from SeLUNet_model import *\n",
    "from ResUNet_model import *\n",
    "from data import *\n",
    "import tensorflow as tf\n",
    "\n",
    "config = tf.compat.v1.ConfigProto()\n",
    "config.gpu_options.allow_growth = True\n",
    "sess = tf.compat.v1.Session(config=config)\n",
    "# os.environ[\"CUDA_VISIBLE_DEVICES\"] = \"0\""
   ]
  },
  {
   "cell_type": "markdown",
   "metadata": {},
   "source": [
    "# Training"
   ]
  },
  {
   "cell_type": "code",
   "execution_count": 2,
   "metadata": {},
   "outputs": [
    {
     "name": "stderr",
     "output_type": "stream",
     "text": [
      "E:\\我的雲端硬碟\\Python\\untitled\\medical_ai\\Final_project\\Plan2\\unet-master-2\\model.py:197: UserWarning: Update your `Model` call to the Keras 2 API: `Model(inputs=Tensor(\"in..., outputs=Tensor(\"co...)`\n",
      "  model = Model(input=inputs, output=conv10)\n"
     ]
    },
    {
     "name": "stdout",
     "output_type": "stream",
     "text": [
      "Epoch 1/10\n",
      "Found 41 images belonging to 1 classes.\n",
      "Found 41 images belonging to 1 classes.\n",
      "500/500 [==============================] - 157s 313ms/step - loss: 0.0537 - accuracy: 0.9833\n",
      "\n",
      "Epoch 00001: loss improved from inf to 0.05374, saving model to unet_membrane.hdf5\n",
      "Epoch 2/10\n",
      "500/500 [==============================] - 148s 297ms/step - loss: 0.0290 - accuracy: 0.9887\n",
      "\n",
      "Epoch 00002: loss improved from 0.05374 to 0.02893, saving model to unet_membrane.hdf5\n",
      "Epoch 3/10\n",
      "500/500 [==============================] - 148s 297ms/step - loss: 0.0150 - accuracy: 0.9938\n",
      "\n",
      "Epoch 00003: loss improved from 0.02893 to 0.01504, saving model to unet_membrane.hdf5\n",
      "Epoch 4/10\n",
      "500/500 [==============================] - 148s 296ms/step - loss: 0.0109 - accuracy: 0.9955\n",
      "\n",
      "Epoch 00004: loss improved from 0.01504 to 0.01075, saving model to unet_membrane.hdf5\n",
      "Epoch 5/10\n",
      "500/500 [==============================] - 149s 297ms/step - loss: 0.0105 - accuracy: 0.9957\n",
      "\n",
      "Epoch 00005: loss improved from 0.01075 to 0.01041, saving model to unet_membrane.hdf5\n",
      "Epoch 6/10\n",
      "500/500 [==============================] - 148s 296ms/step - loss: 0.0074 - accuracy: 0.9968\n",
      "\n",
      "Epoch 00006: loss improved from 0.01041 to 0.00735, saving model to unet_membrane.hdf5\n",
      "Epoch 7/10\n",
      "500/500 [==============================] - 149s 297ms/step - loss: 0.0097 - accuracy: 0.9961\n",
      "\n",
      "Epoch 00007: loss did not improve from 0.00735\n",
      "Epoch 8/10\n",
      "500/500 [==============================] - 147s 294ms/step - loss: 0.0065 - accuracy: 0.9972\n",
      "\n",
      "Epoch 00008: loss improved from 0.00735 to 0.00643, saving model to unet_membrane.hdf5\n",
      "Epoch 9/10\n",
      "500/500 [==============================] - 147s 293ms/step - loss: 0.0093 - accuracy: 0.9962\n",
      "\n",
      "Epoch 00009: loss did not improve from 0.00643\n",
      "Epoch 10/10\n",
      "500/500 [==============================] - 147s 294ms/step - loss: 0.0064 - accuracy: 0.9973\n",
      "\n",
      "Epoch 00010: loss improved from 0.00643 to 0.00632, saving model to unet_membrane.hdf5\n"
     ]
    }
   ],
   "source": [
    "data_gen_args = dict(rotation_range=0.2,\n",
    "                    width_shift_range=0.05,\n",
    "                    height_shift_range=0.05,\n",
    "                    shear_range=0.05,\n",
    "                    zoom_range=0.05,\n",
    "                    horizontal_flip=True,\n",
    "                    fill_mode='nearest')\n",
    "myGene = trainGenerator(5,'data/membrane/train_old','image','label',data_gen_args,save_to_dir = None)\n",
    "model = unet3()\n",
    "model_checkpoint = ModelCheckpoint('unet_membrane.hdf5', monitor='loss',verbose=1, save_best_only=True)\n",
    "history = model.fit_generator(myGene,steps_per_epoch=500,epochs=10,callbacks=[model_checkpoint])"
   ]
  },
  {
   "cell_type": "code",
   "execution_count": 3,
   "metadata": {},
   "outputs": [
    {
     "data": {
      "image/png": "[encoded data removed]",
      "text/plain": [
       "<Figure size 432x288 with 1 Axes>"
      ]
     },
     "metadata": {
      "needs_background": "light"
     },
     "output_type": "display_data"
    }
   ],
   "source": [
    "import matplotlib.pyplot as plt\n",
    "acc = history.history['accuracy']\n",
    "loss = history.history['loss']\n",
    "epoch = [i for i in range(len(acc))]\n",
    "\n",
    "plt.figure()\n",
    "plt.plot(epoch, acc, label='Accuracy')\n",
    "plt.plot(epoch, loss, label='Loss')\n",
    "plt.grid('on')\n",
    "plt.xlabel('Epochs')\n",
    "plt.title('Training accuracy and loss')\n",
    "plt.legend()\n",
    "plt.show()"
   ]
  },
  {
   "cell_type": "markdown",
   "metadata": {},
   "source": [
    "# Testing"
   ]
  },
  {
   "cell_type": "code",
   "execution_count": 4,
   "metadata": {},
   "outputs": [
    {
     "name": "stdout",
     "output_type": "stream",
     "text": [
      "15/15 [==============================] - 0s 33ms/step\n"
     ]
    },
    {
     "name": "stderr",
     "output_type": "stream",
     "text": [
      "E:\\我的雲端硬碟\\Python\\untitled\\medical_ai\\Final_project\\Plan2\\unet-master-2\\data.py:127: UserWarning: data/membrane/results\\1.tif is a low contrast image\n",
      "  io.imsave(os.path.join(save_path, \"%d.tif\" % i), img_as_float(img))\n",
      "E:\\我的雲端硬碟\\Python\\untitled\\medical_ai\\Final_project\\Plan2\\unet-master-2\\data.py:127: UserWarning: data/membrane/results\\3.tif is a low contrast image\n",
      "  io.imsave(os.path.join(save_path, \"%d.tif\" % i), img_as_float(img))\n",
      "E:\\我的雲端硬碟\\Python\\untitled\\medical_ai\\Final_project\\Plan2\\unet-master-2\\data.py:127: UserWarning: data/membrane/results\\9.tif is a low contrast image\n",
      "  io.imsave(os.path.join(save_path, \"%d.tif\" % i), img_as_float(img))\n",
      "E:\\我的雲端硬碟\\Python\\untitled\\medical_ai\\Final_project\\Plan2\\unet-master-2\\data.py:127: UserWarning: data/membrane/results\\11.tif is a low contrast image\n",
      "  io.imsave(os.path.join(save_path, \"%d.tif\" % i), img_as_float(img))\n",
      "E:\\我的雲端硬碟\\Python\\untitled\\medical_ai\\Final_project\\Plan2\\unet-master-2\\data.py:127: UserWarning: data/membrane/results\\12.tif is a low contrast image\n",
      "  io.imsave(os.path.join(save_path, \"%d.tif\" % i), img_as_float(img))\n",
      "E:\\我的雲端硬碟\\Python\\untitled\\medical_ai\\Final_project\\Plan2\\unet-master-2\\data.py:127: UserWarning: data/membrane/results\\13.tif is a low contrast image\n",
      "  io.imsave(os.path.join(save_path, \"%d.tif\" % i), img_as_float(img))\n"
     ]
    }
   ],
   "source": [
    "testGene = testGenerator(\"data/membrane/test\")\n",
    "results = model.predict_generator(testGene,15,verbose=1)\n",
    "saveResult(\"data/membrane/results\",results)"
   ]
  },
  {
   "cell_type": "markdown",
   "metadata": {},
   "source": [
    "# Evaluation"
   ]
  },
  {
   "cell_type": "markdown",
   "metadata": {},
   "source": [
    "### Single image"
   ]
  },
  {
   "cell_type": "code",
   "execution_count": 5,
   "metadata": {},
   "outputs": [],
   "source": [
    "import umetrics\n",
    "from skimage.io import imread\n",
    "import matplotlib.pyplot as plt\n",
    "from PIL import Image\n",
    "import cv2\n",
    "from evaluation_matrix import *\n",
    "\n",
    "true_path = glob.glob(\"data/membrane/test_mask/*.png\")\n",
    "pred_path = glob.glob(\"data/membrane/results/*.tif\")\n",
    "true_path.sort()\n",
    "pred_path.sort()\n",
    "true_imds = []\n",
    "pred_imds = []\n",
    "for i in range(len(true_path)):\n",
    "    img1 = Image.open(true_path[i])\n",
    "    img1 = np.array(img1)\n",
    "    img1 = img1[:,:,:3][:,:,0]\n",
    "    img1 = img1 / 255\n",
    "    img1[img1>0] == 1\n",
    "\n",
    "    img2 = Image.open(pred_path[i])\n",
    "    img2 = np.array(img2)\n",
    "    img2 = cv2.resize(img2,(150,150))\n",
    "    img2[img2>0] == 1\n",
    "    \n",
    "    true_imds.append(img1)\n",
    "    pred_imds.append(img2)\n",
    "    \n",
    "def evaluation(pred, true, verbose=1):\n",
    "    tp = 0\n",
    "    tn = 0\n",
    "    fp = 0\n",
    "    fn = 0\n",
    "    threshold = 0.5\n",
    "    for i, j in zip(pred, true):\n",
    "        for x, y in zip(i, j):\n",
    "            if x >= threshold and y >= threshold:\n",
    "                tp += 1\n",
    "            elif x < threshold and y < threshold:\n",
    "                tn += 1\n",
    "            elif x >= threshold and y < threshold:\n",
    "                fp += 1\n",
    "            elif x < threshold and y >= threshold:\n",
    "                fn += 1\n",
    "    sen = tp/(tp+fn)\n",
    "    spe = tn/(tn+fp)\n",
    "    iou = tp/(fn+fp+tp)\n",
    "    dice = tp/(2*tp+fn+fp)\n",
    "    \n",
    "    if verbose==1:\n",
    "        print(\"============================\")\n",
    "        print(\"Dice score : {:0.4f}\".format(dice))\n",
    "        print(\"Sensitivity score : {:0.4f}\".format(sen))\n",
    "        print(\"Specificity score : {:0.4f}\".format(spe))\n",
    "        print(\"IoU score : {:0.4f}\".format(iou))\n",
    "        print(\"============================\")\n",
    "    return dice, sen, spe, iou"
   ]
  },
  {
   "cell_type": "code",
   "execution_count": 6,
   "metadata": {},
   "outputs": [
    {
     "data": {
      "image/png": "[encoded data removed]",
      "text/plain": [
       "<Figure size 432x288 with 2 Axes>"
      ]
     },
     "metadata": {
      "needs_background": "light"
     },
     "output_type": "display_data"
    },
    {
     "name": "stdout",
     "output_type": "stream",
     "text": [
      "============================\n",
      "Dice score : 0.2983\n",
      "Sensitivity score : 0.5294\n",
      "Specificity score : 0.9978\n",
      "IoU score : 0.4252\n",
      "============================\n"
     ]
    }
   ],
   "source": [
    "num = 4\n",
    "\n",
    "plt.figure()\n",
    "plt.subplot(121)\n",
    "plt.imshow(true_imds[num], cmap='gray')\n",
    "plt.title('Ground truth')\n",
    "plt.axis(\"off\")\n",
    "plt.subplot(122)\n",
    "plt.imshow(pred_imds[num], cmap='gray')\n",
    "plt.title('Prediction')\n",
    "plt.axis(\"off\")\n",
    "plt.show()\n",
    "\n",
    "# print(result.results)\n",
    "sen, spe, iou, dice = evaluation(pred_imds[num], true_imds[num])"
   ]
  },
  {
   "cell_type": "markdown",
   "metadata": {},
   "source": [
    "### Multiple images"
   ]
  },
  {
   "cell_type": "code",
   "execution_count": 7,
   "metadata": {},
   "outputs": [
    {
     "name": "stdout",
     "output_type": "stream",
     "text": [
      "============================\n",
      "Dice score : 0.3469\n",
      "Sensitivity score : 0.6198\n",
      "Specificity score : 0.9994\n",
      "IoU : 0.5938\n",
      "============================\n"
     ]
    }
   ],
   "source": [
    "dice = []\n",
    "sen = []\n",
    "spe = []\n",
    "IOU = []\n",
    "\n",
    "for i in range(len(pred_imds)):\n",
    "    dices, sens, spes, ious = evaluation(pred_imds[i], true_imds[i], verbose=0)\n",
    "    dice.append(dices)\n",
    "    sen.append(sens)\n",
    "    spe.append(spes)\n",
    "    IOU.append(ious)\n",
    "Dice = np.mean(dice)\n",
    "Sen = np.mean(sen)\n",
    "Spe = np.mean(spe)\n",
    "IoU = np.mean(IOU)\n",
    "\n",
    "print(\"============================\")\n",
    "print(\"Dice score : {:0.4f}\".format(Dice))\n",
    "print(\"Sensitivity score : {:0.4f}\".format(Sen))\n",
    "print(\"Specificity score : {:0.4f}\".format(Spe))\n",
    "print(\"IoU : {:0.4f}\".format(IoU))\n",
    "print(\"============================\")"
   ]
  }
 ],
 "metadata": {
  "kernelspec": {
   "display_name": "Python 3",
   "language": "python",
   "name": "python3"
  },
  "language_info": {
   "codemirror_mode": {
    "name": "ipython",
    "version": 3
   },
   "file_extension": ".py",
   "mimetype": "text/x-python",
   "name": "python",
   "nbconvert_exporter": "python",
   "pygments_lexer": "ipython3",
   "version": "3.6.10"
  },
  "toc": {
   "base_numbering": 1,
   "nav_menu": {},
   "number_sections": true,
   "sideBar": true,
   "skip_h1_title": false,
   "title_cell": "Table of Contents",
   "title_sidebar": "Contents",
   "toc_cell": false,
   "toc_position": {},
   "toc_section_display": true,
   "toc_window_display": true
  },
  "varInspector": {
   "cols": {
    "lenName": 16,
    "lenType": 16,
    "lenVar": 40
   },
   "kernels_config": {
    "python": {
     "delete_cmd_postfix": "",
     "delete_cmd_prefix": "del ",
     "library": "var_list.py",
     "varRefreshCmd": "print(var_dic_list())"
    },
    "r": {
     "delete_cmd_postfix": ") ",
     "delete_cmd_prefix": "rm(",
     "library": "var_list.r",
     "varRefreshCmd": "cat(var_dic_list()) "
    }
   },
   "types_to_exclude": [
    "module",
    "function",
    "builtin_function_or_method",
    "instance",
    "_Feature"
   ],
   "window_display": false
  }
 },
 "nbformat": 4,
 "nbformat_minor": 2
}
