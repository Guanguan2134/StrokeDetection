{
 "cells": [
  {
   "cell_type": "code",
   "execution_count": 1,
   "metadata": {},
   "outputs": [],
   "source": [
    "import tensorflow as tf\n",
    "config = tf.compat.v1.ConfigProto()\n",
    "config.gpu_options.allow_growth = True\n",
    "sess = tf.compat.v1.Session(config=config)\n",
    "# os.environ[\"CUDA_VISIBLE_DEVICES\"] = \"0\""
   ]
  },
  {
   "cell_type": "markdown",
   "metadata": {},
   "source": [
    "# Preprocessing"
   ]
  },
  {
   "cell_type": "code",
   "execution_count": 2,
   "metadata": {},
   "outputs": [
    {
     "name": "stderr",
     "output_type": "stream",
     "text": [
      "Using TensorFlow backend.\n"
     ]
    },
    {
     "name": "stdout",
     "output_type": "stream",
     "text": [
      "    Status: 55 / 56\r"
     ]
    }
   ],
   "source": [
    "from keras.preprocessing import image\n",
    "from keras.applications.vgg16 import VGG16\n",
    "from keras.applications.vgg16 import preprocess_input\n",
    "import numpy as np\n",
    "import os, shutil, glob\n",
    "image.LOAD_TRUNCATED_IMAGES = True \n",
    "model = VGG16(weights='imagenet', include_top=False)\n",
    "\n",
    "# Variables\n",
    "imdir = r'E:\\Google 雲端硬碟\\Python\\untitled\\medical_ai\\Final_project\\Plan2\\Data'\n",
    "base_dir = r'E:\\Google 雲端硬碟\\Python\\untitled\\medical_ai\\Final_project\\Plan2\\unet-master-2\\data\\membrane'\n",
    "targetdir = os.path.join(base_dir,'Clustering')\n",
    "\n",
    "# Datalist\n",
    "# datalist = glob.glob(os.path.join(imdir, '*.png'))\n",
    "# d = []\n",
    "# for i in datalist:\n",
    "#     if i[-5] != 't' and i[-5] != 'k':\n",
    "#         d.append(i)\n",
    "# datalist = d\n",
    "datalist = []\n",
    "masklist = glob.glob(os.path.join(imdir, '*_mask.png'))\n",
    "resultlist = glob.glob(os.path.join(imdir, '*_result.png'))\n",
    "for i in masklist:\n",
    "    datalist.append(i[:-9]+'.png')\n",
    "\n",
    "# Loop over files and get features\n",
    "filelist = resultlist\n",
    "filelist.sort()\n",
    "featurelist = []\n",
    "for i, imagepath in enumerate(filelist):\n",
    "    print(\"    Status: %s / %s\" %(i, len(filelist)), end=\"\\r\")\n",
    "    img = image.load_img(imagepath, target_size=(150, 150))\n",
    "    img_data = image.img_to_array(img)\n",
    "    img_data = np.expand_dims(img_data, axis=0)\n",
    "    img_data = preprocess_input(img_data)\n",
    "    features = np.array(model.predict(img_data))\n",
    "    featurelist.append(features.flatten())"
   ]
  },
  {
   "cell_type": "markdown",
   "metadata": {},
   "source": [
    "# Evaluation"
   ]
  },
  {
   "cell_type": "code",
   "execution_count": 3,
   "metadata": {},
   "outputs": [],
   "source": [
    "# from sklearn.cluster import KMeans\n",
    "# # Clustering\n",
    "# score = []\n",
    "# for i in range(41):\n",
    "#     number_clusters = i+1\n",
    "#     kmeans = KMeans(n_clusters=number_clusters, random_state=0).fit(np.array(featurelist))\n",
    "#     score.append(kmeans.inertia_)\n",
    "# print(score)\n",
    "# print(np.argmin(score)+1)"
   ]
  },
  {
   "cell_type": "code",
   "execution_count": 4,
   "metadata": {},
   "outputs": [],
   "source": [
    "# import matplotlib.pyplot as plt\n",
    "# k = [i+1 for i in range(41)]\n",
    "# score = np.array(score)\n",
    "# d_score = abs(score[2:]-score[1:-1])\n",
    "# print(np.argmin(d_score))\n",
    "# plt.figure()\n",
    "# plt.plot(k, score)\n",
    "# plt.plot(k[:39],d_score)\n",
    "# plt.grid('on')\n",
    "# plt.show()"
   ]
  },
  {
   "cell_type": "markdown",
   "metadata": {},
   "source": [
    "# Clustering"
   ]
  },
  {
   "cell_type": "code",
   "execution_count": 5,
   "metadata": {},
   "outputs": [
    {
     "data": {
      "image/png": "[encoded data removed]",
      "text/plain": [
       "<Figure size 432x288 with 1 Axes>"
      ]
     },
     "metadata": {
      "needs_background": "light"
     },
     "output_type": "display_data"
    },
    {
     "name": "stdout",
     "output_type": "stream",
     "text": [
      "    Copy: 0 / 56\r",
      "    Copy: 1 / 56\r",
      "    Copy: 2 / 56\r",
      "    Copy: 3 / 56\r",
      "    Copy: 4 / 56\r",
      "    Copy: 5 / 56\r",
      "    Copy: 6 / 56\r",
      "    Copy: 7 / 56\r",
      "    Copy: 8 / 56\r",
      "    Copy: 9 / 56\r",
      "    Copy: 10 / 56\r",
      "    Copy: 11 / 56\r",
      "    Copy: 12 / 56\r",
      "    Copy: 13 / 56\r",
      "    Copy: 14 / 56\r",
      "    Copy: 15 / 56\r",
      "    Copy: 16 / 56\r",
      "    Copy: 17 / 56\r",
      "    Copy: 18 / 56\r",
      "    Copy: 19 / 56\r",
      "    Copy: 20 / 56\r",
      "    Copy: 21 / 56\r",
      "    Copy: 22 / 56\r",
      "    Copy: 23 / 56\r",
      "    Copy: 24 / 56\r",
      "    Copy: 25 / 56\r",
      "    Copy: 26 / 56\r",
      "    Copy: 27 / 56\r",
      "    Copy: 28 / 56\r",
      "    Copy: 29 / 56\r",
      "    Copy: 30 / 56\r",
      "    Copy: 31 / 56\r",
      "    Copy: 32 / 56\r",
      "    Copy: 33 / 56\r",
      "    Copy: 34 / 56\r",
      "    Copy: 35 / 56\r",
      "    Copy: 36 / 56\r",
      "    Copy: 37 / 56\r",
      "    Copy: 38 / 56\r",
      "    Copy: 39 / 56\r",
      "    Copy: 40 / 56\r",
      "    Copy: 41 / 56\r",
      "    Copy: 42 / 56\r",
      "    Copy: 43 / 56\r",
      "    Copy: 44 / 56\r",
      "    Copy: 45 / 56\r",
      "    Copy: 46 / 56\r",
      "    Copy: 47 / 56\r",
      "    Copy: 48 / 56\r",
      "    Copy: 49 / 56\r",
      "    Copy: 50 / 56\r",
      "    Copy: 51 / 56\r",
      "    Copy: 52 / 56\r",
      "    Copy: 53 / 56\r",
      "    Copy: 54 / 56\r",
      "    Copy: 55 / 56\r"
     ]
    }
   ],
   "source": [
    "from sklearn.cluster import KMeans\n",
    "import matplotlib.pyplot as plt\n",
    "number_clusters = 8\n",
    "kmeans = KMeans(n_clusters=number_clusters, random_state=0).fit(np.array(featurelist))\n",
    "plt.figure()\n",
    "plt.hist(kmeans.labels_, bins=number_clusters*2)\n",
    "plt.show()\n",
    "\n",
    "# Copy images renamed by cluster \n",
    "# Check if target dir exists\n",
    "try:\n",
    "    shutil.rmtree(targetdir)\n",
    "except OSError:\n",
    "    pass\n",
    "try:\n",
    "    os.makedirs(targetdir)\n",
    "except OSError:\n",
    "    pass\n",
    "# Copy with cluster name\n",
    "for i, m in enumerate(kmeans.labels_):\n",
    "    print(\"    Copy: %s / %s\" %(i, len(kmeans.labels_)), end=\"\\r\")\n",
    "    shutil.copy(filelist[i], os.path.join(targetdir, str(m) + \"_\" + str(i) + \".png\"))"
   ]
  },
  {
   "cell_type": "markdown",
   "metadata": {},
   "source": [
    "# Splitting dataset"
   ]
  },
  {
   "cell_type": "code",
   "execution_count": 6,
   "metadata": {},
   "outputs": [],
   "source": [
    "from random import choice\n",
    "train_dir = os.path.join(base_dir,'train')\n",
    "test_dir = os.path.join(base_dir,'test')\n",
    "\n",
    "try:\n",
    "    shutil.rmtree(train_dir)\n",
    "    shutil.rmtree(test_dir)\n",
    "    shutil.rmtree(os.path.join(base_dir,'test_mask'))\n",
    "    shutil.rmtree(os.path.join(base_dir,'results'))\n",
    "except OSError:\n",
    "    pass\n",
    "try:\n",
    "    os.makedirs(train_dir)\n",
    "    os.makedirs(os.path.join(train_dir,'image'))\n",
    "    os.makedirs(os.path.join(train_dir,'label'))\n",
    "    os.makedirs(os.path.join(train_dir,'result'))\n",
    "    os.makedirs(test_dir)\n",
    "    os.makedirs(os.path.join(base_dir,'test_mask'))\n",
    "    os.makedirs(os.path.join(base_dir,'results'))\n",
    "except OSError:\n",
    "    pass\n",
    "\n",
    "labels = kmeans.labels_\n",
    "testrate = 0.2\n",
    "# testset_num = round(testrate*len(filelist))\n",
    "testset_num = 15\n",
    "count = 0\n",
    "check = True\n",
    "while check:\n",
    "    for i in range(number_clusters):   \n",
    "        idxs = np.ndarray.tolist(np.where(labels==i)[0])\n",
    "        if not idxs:\n",
    "            continue\n",
    "        idx = choice(idxs)\n",
    "        shutil.copy(datalist[idx], os.path.join(test_dir, str(count)+\".png\"))\n",
    "        shutil.copy(masklist[idx], os.path.join(os.path.join(base_dir,'test_mask'), str(count)+\".png\"))\n",
    "        shutil.copy(filelist[idx], os.path.join(os.path.join(base_dir,'results'), str(count)+\".png\"))\n",
    "        datalist.pop(idx)\n",
    "        masklist.pop(idx)\n",
    "        filelist.pop(idx)\n",
    "        labels = np.delete(labels,idx)\n",
    "        count += 1\n",
    "        if count >= testset_num:\n",
    "            check = False\n",
    "            break\n",
    "for i in range(len(filelist)):\n",
    "    shutil.copy(datalist[i], os.path.join(os.path.join(train_dir,'image'), str(i)+\".png\"))\n",
    "    shutil.copy(masklist[i], os.path.join(os.path.join(train_dir,'label'), str(i)+\".png\"))\n",
    "    shutil.copy(filelist[i], os.path.join(os.path.join(train_dir,'result'), str(i)+\".png\"))"
   ]
  }
 ],
 "metadata": {
  "kernelspec": {
   "display_name": "Python 3",
   "language": "python",
   "name": "python3"
  },
  "language_info": {
   "codemirror_mode": {
    "name": "ipython",
    "version": 3
   },
   "file_extension": ".py",
   "mimetype": "text/x-python",
   "name": "python",
   "nbconvert_exporter": "python",
   "pygments_lexer": "ipython3",
   "version": "3.6.10"
  },
  "toc": {
   "base_numbering": 1,
   "nav_menu": {},
   "number_sections": true,
   "sideBar": true,
   "skip_h1_title": false,
   "title_cell": "Table of Contents",
   "title_sidebar": "Contents",
   "toc_cell": false,
   "toc_position": {},
   "toc_section_display": true,
   "toc_window_display": true
  },
  "varInspector": {
   "cols": {
    "lenName": 16,
    "lenType": 16,
    "lenVar": 40
   },
   "kernels_config": {
    "python": {
     "delete_cmd_postfix": "",
     "delete_cmd_prefix": "del ",
     "library": "var_list.py",
     "varRefreshCmd": "print(var_dic_list())"
    },
    "r": {
     "delete_cmd_postfix": ") ",
     "delete_cmd_prefix": "rm(",
     "library": "var_list.r",
     "varRefreshCmd": "cat(var_dic_list()) "
    }
   },
   "position": {
    "height": "378px",
    "left": "1297px",
    "right": "20px",
    "top": "114px",
    "width": "556px"
   },
   "types_to_exclude": [
    "module",
    "function",
    "builtin_function_or_method",
    "instance",
    "_Feature"
   ],
   "window_display": false
  }
 },
 "nbformat": 4,
 "nbformat_minor": 4
}
